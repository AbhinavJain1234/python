{
  "cells": [
    {
      "cell_type": "markdown",
      "metadata": {},
      "source": [
        "assignment 2 begin"
      ]
    },
    {
      "cell_type": "code",
      "execution_count": 10,
      "metadata": {},
      "outputs": [
        {
          "name": "stdout",
          "output_type": "stream",
          "text": [
            "found\n"
          ]
        }
      ],
      "source": [
        "import sys \n",
        "import copy\n",
        "\n",
        "q=[]\n",
        "\n",
        "\n",
        "def up(s,pos):\n",
        "  i = pos[0] \n",
        "  j = pos[1]\n",
        "  if i > 0:\n",
        "    temp = copy.deepcopy(s) \n",
        "    temp[i][j] = temp[i-1][j] \n",
        "    temp[i-1][j] = 0\n",
        "    return (temp) \n",
        "  else:\n",
        "    return (s)\n",
        "\n",
        "\n",
        "def down(s,pos):\n",
        "  i = pos[0] \n",
        "  j = pos[1]\n",
        "  if i < 2:\n",
        "    temp = copy.deepcopy(s) \n",
        "    temp[i][j] = temp[i+1][j] \n",
        "    temp[i+1][j] = 0\n",
        "    return (temp)\n",
        "  else:\n",
        "    return (s)\n",
        "  \n",
        "def right(s,pos):\n",
        "  i = pos[0] \n",
        "  j = pos[1]\n",
        "  if j < 2:\n",
        "    temp = copy.deepcopy(s) \n",
        "    temp[i][j] = temp[i][j+1] \n",
        "    temp[i][j+1] = 0\n",
        "    return (temp)\n",
        "  else:\n",
        "    return (s)\n",
        "\n",
        "def left(s,pos):\n",
        "  i = pos[0] \n",
        "  j = pos[1]\n",
        "  if j > 0:\n",
        "    temp = copy.deepcopy(s) \n",
        "    temp[i][j] = temp[i][j-1] \n",
        "    temp[i][j-1] = 0\n",
        "    return (temp)\n",
        "  else:\n",
        "    return (s)\n",
        "\n",
        "def enqueue(s):\n",
        "  global q\n",
        "  q = q + [s]\n",
        "\n",
        "def dequeue(): \n",
        "  global q\n",
        "# find the state having minimum mis matches with the goal state \n",
        "  elem = q[0]\n",
        "  del q[0]\n",
        "  return (elem)\n",
        "\n",
        "def search(s,g):\n",
        "  curr_state = copy.deepcopy(s) \n",
        "  if s == g:\n",
        "    return\n",
        "  \n",
        "  while(1):\n",
        "    pos = find_pos(curr_state) \n",
        "\n",
        "    new = up(curr_state,pos)\n",
        "    if new != curr_state: \n",
        "      if new == g:\n",
        "        print (\"found\")\n",
        "        return \n",
        "      else:\n",
        "        enqueue(new)\n",
        "\n",
        "    new = down(curr_state,pos)\n",
        "    if new != curr_state: \n",
        "      if new == g:\n",
        "        print (\"found\")\n",
        "        return \n",
        "      else:\n",
        "        enqueue(new)\n",
        "\n",
        "    new = right(curr_state,pos)\n",
        "    if new != curr_state: \n",
        "      if new == g:\n",
        "        print (\"Found\")\n",
        "        return \n",
        "      else:\n",
        "        enqueue(new)\n",
        "    \n",
        "    new = left(curr_state,pos)\n",
        "    if new != curr_state: \n",
        "      if new == g:\n",
        "        print (\"Found\")\n",
        "        return \n",
        "      else:\n",
        "        enqueue(new)\n",
        "\n",
        "    if len(q) > 0:\n",
        "      curr_state = dequeue()\n",
        "    else:\n",
        "      print (\"not found\") \n",
        "      return\n",
        "    \n",
        "\n",
        "\n",
        "def find_pos(s):\n",
        "    for i in range(len(s)):\n",
        "        for j in range(len(s[0])):\n",
        "            if s[i][j] == 0: \n",
        "                return([i,j])\n",
        "\n",
        "\n",
        "\n",
        "\n",
        "def main():\n",
        "    s = [[1,2,3],[8,0,4],[7,6,5]]\n",
        "    g = [[2,8,1],[0,4,3],[7,6,5]] \n",
        "    search(s,g)\n",
        "\n",
        "if __name__ == \"__main__\": \n",
        "    main()\n"
      ]
    },
    {
      "cell_type": "code",
      "execution_count": 14,
      "metadata": {},
      "outputs": [
        {
          "name": "stdout",
          "output_type": "stream",
          "text": [
            "Steps:\n",
            "0 0\n",
            "5 0\n",
            "5 3\n",
            "0 3\n",
            "3 0\n",
            "3 3\n",
            "5 1\n",
            "0 1\n"
          ]
        },
        {
          "data": {
            "text/plain": [
              "True"
            ]
          },
          "execution_count": 14,
          "metadata": {},
          "output_type": "execute_result"
        }
      ],
      "source": [
        "from collections import defaultdict \n",
        "\n",
        "jug1, jug2, aim = 5, 3,1\n",
        "visited = defaultdict(lambda: False) \n",
        "\n",
        "def waterJugSolver(amt1, amt2):\n",
        "    if (amt1 == aim and amt2 == 0) or (amt2 == aim and amt1 == 0): \n",
        "        print(amt1, amt2)\n",
        "        return True\n",
        "\n",
        "    if visited[(amt1, amt2)] == False: \n",
        "        print(amt1, amt2)\n",
        "        visited[(amt1, amt2)] = True\n",
        "        return (waterJugSolver(0, amt2) or \n",
        "                waterJugSolver(amt1, 0) or \n",
        "                waterJugSolver(jug1, amt2) or \n",
        "                waterJugSolver(amt1, jug2) or \n",
        "                waterJugSolver(amt1 + min(amt2, (jug1-amt1)), amt2 - min(amt2, (jug1-amt1))) or \n",
        "                waterJugSolver(amt1 - min(amt1, (jug2-amt2)), amt2 + min(amt1, (jug2-amt2))))\n",
        "    else:\n",
        "        return False\n",
        "\n",
        "print(\"Steps:\") \n",
        "waterJugSolver(0, 0)"
      ]
    },
    {
      "cell_type": "code",
      "execution_count": 6,
      "metadata": {},
      "outputs": [
        {
          "name": "stdout",
          "output_type": "stream",
          "text": [
            "[80, 95, 95, 95, 95, 80]\n",
            "80\n"
          ]
        }
      ],
      "source": [
        "dst = []\n",
        "\n",
        "def travel(g, v, pos, n, count, cost):\n",
        "    if count == n and g[pos][s]: \n",
        "        cost += g[pos][s] \n",
        "        dst.append(cost)\n",
        "        return\n",
        "    for i in range(n): \n",
        "        if not v[i] and g[pos][i]:\n",
        "            v[i] = True \n",
        "            travel(g, v, i, n, count + 1, cost + g[pos][i]) \n",
        "            v[i] = False\n",
        "\n",
        "n = 4\n",
        "g = [\n",
        "    [0, 10, 15, 20],\n",
        "    [10, 0, 35, 25],\n",
        "    [15, 35, 0, 30],\n",
        "    [20, 25, 30, 0]\n",
        "] \n",
        "s = int(input(\"Enter a number between 1 and 4: \"))\n",
        "v = [False for _ in range(n)]\n",
        "s -= 1\n",
        "v[s] = True\n",
        "travel(g, v, s, n, 1, 0)\n",
        "print(dst)\n",
        "print(min(dst))\n"
      ]
    },
    {
      "cell_type": "markdown",
      "metadata": {},
      "source": [
        "assigment 2 end"
      ]
    },
    {
      "cell_type": "markdown",
      "metadata": {},
      "source": [
        "practice assignment"
      ]
    },
    {
      "cell_type": "code",
      "execution_count": 21,
      "metadata": {},
      "outputs": [
        {
          "name": "stdout",
          "output_type": "stream",
          "text": [
            "Breadth First Traversal starting from vertex A :\n",
            "A B C D E F "
          ]
        }
      ],
      "source": [
        "from collections import deque\n",
        "\n",
        "def bfs(graph, start):\n",
        "    visited = set()  # Set to keep track of visited vertices\n",
        "    queue = deque([start])  # Queue for BFS traversal\n",
        "    visited.add(start)  # Mark start node as visited\n",
        "\n",
        "    while queue:\n",
        "        vertex = queue.popleft()  # Dequeue a vertex from the queue\n",
        "        print(vertex, end=\" \")  # Print the visited vertex\n",
        "\n",
        "        # Visit all adjacent vertices of the dequeued vertex that are not yet visited\n",
        "        for neighbor in graph[vertex]:\n",
        "            if neighbor not in visited:\n",
        "                queue.append(neighbor)  # Enqueue the neighbor\n",
        "                visited.add(neighbor)  # Mark neighbor as visited\n",
        "\n",
        "# Example graph represented as adjacency list\n",
        "graph = {\n",
        "    'A': ['B', 'C'],\n",
        "    'B': ['A', 'D', 'E'],\n",
        "    'C': ['A', 'F'],\n",
        "    'D': ['B'],\n",
        "    'E': ['B', 'F'],\n",
        "    'F': ['C', 'E']\n",
        "}\n",
        "\n",
        "# Starting vertex for BFS traversal\n",
        "start_vertex = 'A'\n",
        "\n",
        "print(\"Breadth First Traversal starting from vertex\", start_vertex, \":\")\n",
        "bfs(graph, start_vertex)\n"
      ]
    },
    {
      "cell_type": "code",
      "execution_count": null,
      "metadata": {},
      "outputs": [],
      "source": [
        "def dfs(graph, start):\n",
        "    visited = set()  # Set to keep track of visited vertices\n",
        "    stack = [start]   # Stack for DFS traversal\n",
        "    \n",
        "    while stack:\n",
        "        vertex = stack.pop()  # Pop a vertex from the stack\n",
        "        if vertex not in visited:\n",
        "            print(vertex, end=\" \")  # Print the visited vertex\n",
        "            visited.add(vertex)     # Mark the vertex as visited\n",
        "            \n",
        "            # Push all adjacent vertices of the current vertex onto the stack\n",
        "            for neighbor in reversed(graph[vertex]):  # Push in reverse order to maintain the correct order\n",
        "                if neighbor not in visited:\n",
        "                    stack.append(neighbor)\n",
        "\n",
        "# Example graph represented as adjacency list\n",
        "graph = {\n",
        "    'A': ['B', 'C'],\n",
        "    'B': ['A', 'D', 'E'],\n",
        "    'C': ['A', 'F'],\n",
        "    'D': ['B'],\n",
        "    'E': ['B', 'F'],\n",
        "    'F': ['C', 'E']\n",
        "}\n",
        "\n",
        "# Starting vertex for DFS traversal\n",
        "start_vertex = 'A'\n",
        "\n",
        "print(\"Depth First Traversal starting from vertex\", start_vertex, \":\")\n",
        "dfs(graph, start_vertex)\n"
      ]
    },
    {
      "cell_type": "code",
      "execution_count": null,
      "metadata": {},
      "outputs": [],
      "source": [
        "import heapq\n",
        "\n",
        "def ucs(graph, start, goal):\n",
        "    frontier = [(0, start)]  # Priority queue of (cost, node)\n",
        "    visited = set()          # Set to keep track of visited nodes\n",
        "\n",
        "    while frontier:\n",
        "        cost, current_node = heapq.heappop(frontier)  # Pop the node with the lowest cost\n",
        "        visited.add(current_node)  # Mark the current node as visited\n",
        "\n",
        "        if current_node == goal:\n",
        "            return cost  # If goal reached, return the cost\n",
        "        \n",
        "        for neighbor, neighbor_cost in graph[current_node].items():\n",
        "            if neighbor not in visited:\n",
        "                heapq.heappush(frontier, (cost + neighbor_cost, neighbor))  # Push neighbor to the frontier\n",
        "\n",
        "# Example graph represented as adjacency list with edge costs\n",
        "graph = {\n",
        "    'A': {'B': 1, 'C': 5},\n",
        "    'B': {'A': 1, 'D': 3, 'E': 7},\n",
        "    'C': {'A': 5, 'F': 2},\n",
        "    'D': {'B': 3},\n",
        "    'E': {'B': 7, 'F': 1},\n",
        "    'F': {'C': 2, 'E': 1}\n",
        "}\n",
        "\n",
        "# Starting and goal nodes for Uniform Cost Search\n",
        "start_node = 'A'\n",
        "goal_node = 'F'\n",
        "\n",
        "# Perform Uniform Cost Search\n",
        "cost = ucs(graph, start_node, goal_node)\n",
        "\n",
        "# Output the cost of the shortest path\n",
        "if cost is not None:\n",
        "    print(\"Cost of the shortest path from\", start_node, \"to\", goal_node, \":\", cost)\n",
        "else:\n",
        "    print(\"No path found from\", start_node, \"to\", goal_node)\n"
      ]
    },
    {
      "cell_type": "code",
      "execution_count": 17,
      "metadata": {},
      "outputs": [
        {
          "name": "stdout",
          "output_type": "stream",
          "text": [
            "Depth-First Traversal:\n",
            "2 0 1 3 "
          ]
        }
      ],
      "source": [
        "def dfs(graph, start, visited=None):\n",
        "    if visited is None:\n",
        "        visited = set()\n",
        "    visited.add(start)\n",
        "    print(start, end=\" \")  \n",
        "    \n",
        "    for neighbor in graph[start]:\n",
        "        if neighbor not in visited:\n",
        "            dfs(graph, neighbor, visited)\n",
        "\n",
        "\n",
        "graph = {\n",
        "    0: [1, 2],\n",
        "    1: [],\n",
        "    2: [0, 3],\n",
        "    3: [3]\n",
        "}\n",
        "\n",
        "\n",
        "print(\"Depth-First Traversal:\")\n",
        "dfs(graph,2)"
      ]
    },
    {
      "cell_type": "code",
      "execution_count": null,
      "metadata": {},
      "outputs": [],
      "source": [
        "def bfs(graph, start):\n",
        "    visited = set()          # Set to keep track of visited vertices\n",
        "    queue = deque([start])   # Initialize a queue with the starting vertex\n",
        "\n",
        "    while queue:             # While there are vertices in the queue\n",
        "        vertex = queue.popleft()  # Dequeue a vertex from the queue\n",
        "        if vertex not in visited:\n",
        "            print(vertex, end=' ')  # Print the vertex\n",
        "            visited.add(vertex)     # Mark the vertex as visited\n",
        "            for neighbor in graph[vertex]:  # Enqueue all adjacent vertices of the dequeued vertex\n",
        "                if neighbor not in visited:\n",
        "                    queue.append(neighbor)\n",
        "\n",
        "# Define the graph as an adjacency list\n",
        "graph = {\n",
        "    0: [1, 2],\n",
        "    1: [],\n",
        "    2: [0, 3],\n",
        "    3: [3]\n",
        "}\n",
        "\n",
        "# Example usage:\n",
        "if _name_ == \"_main_\":\n",
        "    print(\"BFS traversal starting from vertex 0:\")\n",
        "    bfs(graph, 0)"
      ]
    },
    {
      "cell_type": "markdown",
      "metadata": {},
      "source": [
        "DFS"
      ]
    },
    {
      "cell_type": "markdown",
      "metadata": {
        "id": "e1oOdOUE1WMO"
      },
      "source": [
        "Question 1 : Write a code in python for the 8 puzzle problem by taking the\n",
        "             following initial and final states.\n"
      ]
    },
    {
      "cell_type": "code",
      "execution_count": null,
      "metadata": {
        "colab": {
          "base_uri": "https://localhost:8080/"
        },
        "id": "pW5ty7Pq2it4",
        "outputId": "395813a5-62f3-45e5-fe91-80dff2f0cd25"
      },
      "outputs": [
        {
          "name": "stdout",
          "output_type": "stream",
          "text": [
            "Found\n"
          ]
        }
      ],
      "source": [
        "import sys\n",
        "import copy\n",
        "\n",
        "q = []\n",
        "\n",
        "def compare(s,g):\n",
        "   if s==g:\n",
        "       return(1)\n",
        "   else:\n",
        "       return(0)\n",
        "\n",
        "def find_pos(s):\n",
        "   for i in range(len(s)):\n",
        "       for j in range(len(s[0])):\n",
        "           if s[i][j] == 0:\n",
        "               return([i,j])\n",
        "\n",
        "def up(s,pos):\n",
        "   i = pos[0]\n",
        "   j = pos[1]\n",
        "   if i > 0:\n",
        "       temp = copy.deepcopy(s)\n",
        "       temp[i][j] = temp[i-1][j]\n",
        "       temp[i-1][j] = 0\n",
        "       return (temp)\n",
        "   else:\n",
        "       return (s)\n",
        "\n",
        "def down(s,pos):\n",
        "\n",
        "   i = pos[0]\n",
        "   j = pos[1]\n",
        "   if i < 2:\n",
        "       temp = copy.deepcopy(s)\n",
        "       temp[i][j] = temp[i+1][j]\n",
        "       temp[i+1][j] = 0\n",
        "       return (temp)\n",
        "   else:\n",
        "       return (s)\n",
        "\n",
        "def right(s,pos):\n",
        "   i = pos[0]\n",
        "   j = pos[1]\n",
        "   if j < 2:\n",
        "       temp = copy.deepcopy(s)\n",
        "       temp[i][j] = temp[i][j+1]\n",
        "       temp[i][j+1] = 0\n",
        "       return (temp)\n",
        "   else:\n",
        "       return (s)\n",
        "\n",
        "def left(s,pos):\n",
        "   i = pos[0]\n",
        "   j = pos[1]\n",
        "   if j > 0:\n",
        "       temp = copy.deepcopy(s)\n",
        "       temp[i][j] = temp[i][j-1]\n",
        "       temp[i][j-1] = 0\n",
        "       return (temp)\n",
        "   else:\n",
        "       return (s)\n",
        "\n",
        "def enqueue(s):\n",
        "   global q\n",
        "   q = q + [s]\n",
        "def dequeue():\n",
        "   global q\n",
        "\n",
        "   elem = q[0]\n",
        "   del q[0]\n",
        "   return (elem)\n",
        "\n",
        "def search(s,g):\n",
        "   curr_state = copy.deepcopy(s)\n",
        "   if s == g:\n",
        "       return\n",
        "   c = 0\n",
        "   while(1):\n",
        "       pos = find_pos(curr_state)\n",
        "       new = up(curr_state,pos)\n",
        "       if new != curr_state:\n",
        "           if new == g:\n",
        "               print (\"Found\")\n",
        "               return\n",
        "           else:\n",
        "               enqueue(new)\n",
        "\n",
        "       new = down(curr_state,pos)\n",
        "       if new != curr_state:\n",
        "           if new == g:\n",
        "               print (\"Found\")\n",
        "               return\n",
        "           else:\n",
        "               enqueue(new)\n",
        "\n",
        "       new = right(curr_state,pos)\n",
        "       if new != curr_state:\n",
        "           if new == g:\n",
        "               print (\"Found\")\n",
        "               return\n",
        "           else:\n",
        "               enqueue(new)\n",
        "\n",
        "       new = left(curr_state,pos)\n",
        "       if new != curr_state:\n",
        "           if new == g:\n",
        "               print (\"Found\")\n",
        "               return\n",
        "           else:\n",
        "               enqueue(new)\n",
        "\n",
        "       if len(q) > 0:\n",
        "           curr_state = dequeue()\n",
        "       else:\n",
        "           print (\"Not Found\")\n",
        "           return\n",
        "\n",
        "def main():\n",
        "   s = [[1,2,3],[8,0,4],[7,6,5]]\n",
        "   g = [[2,8,1],[0,4,3],[7,6,5]]\n",
        "   pos = find_pos(s)\n",
        "   search(s,g)\n",
        "if __name__ == \"__main__\":\n",
        "   main()"
      ]
    },
    {
      "cell_type": "markdown",
      "metadata": {
        "id": "c4TAi_Sn3wq5"
      },
      "source": [
        "Question 2 : Given two jugs- a 4 liter and 3 liter capacity. Neither has any measurable markers on it. There\n",
        "is a pump which can be used to fill the jugs with water. Simulate the procedure in Python to get\n",
        "exactly 2 liter of water into 4-liter jug"
      ]
    },
    {
      "cell_type": "code",
      "execution_count": null,
      "metadata": {
        "colab": {
          "base_uri": "https://localhost:8080/"
        },
        "id": "gQjLOhmr35iF",
        "outputId": "e58c7c61-2d5c-414e-c26f-8f81491a85cb"
      },
      "outputs": [
        {
          "name": "stdout",
          "output_type": "stream",
          "text": [
            "[('fill', 1), ('pour', 1, 2), ('empty', 2), ('pour', 1, 2), ('fill', 1), ('pour', 1, 2)]\n"
          ]
        }
      ],
      "source": [
        "def water_jug_problem(jug1_cap, jug2_cap, target_amount):\n",
        "    j1 = 0\n",
        "    j2 = 0\n",
        "    actions = [(\"fill\", 1), (\"fill\", 2), (\"empty\", 1), (\"empty\", 2), (\"pour\", 1, 2), (\"pour\", 2, 1)]\n",
        "    visited = set()\n",
        "    queue = [(j1, j2, [])]\n",
        "\n",
        "    while queue:\n",
        "        j1, j2, seq = queue.pop(0)\n",
        "\n",
        "        if (j1, j2) not in visited:\n",
        "            visited.add((j1, j2))\n",
        "\n",
        "            if j1 == target_amount:\n",
        "                return seq\n",
        "\n",
        "            for action in actions:\n",
        "                if action[0] == \"fill\":\n",
        "                    if action[1] == 1:\n",
        "                        next_state = (jug1_cap, j2)\n",
        "                    else:\n",
        "                        next_state = (j1, jug2_cap)\n",
        "                elif action[0] == \"empty\":\n",
        "                    if action[1] == 1:\n",
        "                        next_state = (0, j2)\n",
        "                    else:\n",
        "                        next_state = (j1, 0)\n",
        "                else:\n",
        "                    if action[1] == 1:\n",
        "                        amount = min(j1, jug2_cap - j2)\n",
        "                        next_state = (j1 - amount, j2 + amount)\n",
        "                    else:\n",
        "                        amount = min(j2, jug1_cap - j1)\n",
        "                        next_state = (j1 + amount, j2 - amount)\n",
        "\n",
        "                if next_state not in visited:\n",
        "                    next_seq = seq + [action]\n",
        "                    queue.append((next_state[0], next_state[1], next_seq))\n",
        "\n",
        "    return None\n",
        "\n",
        "result = water_jug_problem(4, 3, 2)\n",
        "print(result)"
      ]
    },
    {
      "cell_type": "markdown",
      "metadata": {
        "id": "tvAuV_mQ36UW"
      },
      "source": [
        "Question 3 : Write a Python program to implement Travelling Salesman Problem (TSP). Take the starting\n",
        "node from the user at run time."
      ]
    },
    {
      "cell_type": "code",
      "execution_count": null,
      "metadata": {
        "colab": {
          "base_uri": "https://localhost:8080/"
        },
        "id": "F9nPXT013_uM",
        "outputId": "50e1a0b8-5687-4d64-ff59-c826e4db65fe"
      },
      "outputs": [
        {
          "name": "stdout",
          "output_type": "stream",
          "text": [
            "Enter a number less than 4: 2\n",
            "[80, 95, 95, 95, 95, 80]\n",
            "80\n"
          ]
        }
      ],
      "source": [
        "dst=[]\n",
        "def travel(g, v, pos, n, count, cost):\n",
        "   if(count==n and g[pos][s]):\n",
        "       cost+=g[pos][s]\n",
        "       dst.append(cost)\n",
        "       return\n",
        "   for i in range(0,n):\n",
        "       if(v[i]==False and g[pos][i]):\n",
        "           v[i]=True\n",
        "           travel(g,v,i,n,count+1,cost+g[pos][i])\n",
        "           v[i]=False\n",
        "n=4\n",
        "g=[[0, 10, 15, 20],[10, 0, 35, 25],[15, 35, 0, 30],[20, 25, 30, 0]]\n",
        "s=int(input(\"Enter a number less than 4: \"))\n",
        "v=[False for i in range(0,n)]\n",
        "s-=1\n",
        "v[s]=True\n",
        "travel(g,v,s,n,1,0)\n",
        "print(dst)\n",
        "print(min(dst))"
      ]
    }
  ],
  "metadata": {
    "colab": {
      "provenance": []
    },
    "kernelspec": {
      "display_name": "Python 3",
      "name": "python3"
    },
    "language_info": {
      "codemirror_mode": {
        "name": "ipython",
        "version": 3
      },
      "file_extension": ".py",
      "mimetype": "text/x-python",
      "name": "python",
      "nbconvert_exporter": "python",
      "pygments_lexer": "ipython3",
      "version": "3.12.3"
    }
  },
  "nbformat": 4,
  "nbformat_minor": 0
}
